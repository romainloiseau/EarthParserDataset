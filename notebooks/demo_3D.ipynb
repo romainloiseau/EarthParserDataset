{
 "cells": [
  {
   "cell_type": "code",
   "execution_count": null,
   "metadata": {
    "scrolled": false
   },
   "outputs": [],
   "source": [
    "!HYDRA_FULL_ERROR=1\n",
    "\n",
    "%load_ext autoreload\n",
    "%autoreload 2\n",
    "import warnings\n",
    "warnings.filterwarnings(\"ignore\")\n",
    "\n",
    "from plotly.offline import init_notebook_mode\n",
    "init_notebook_mode(connected = True)\n",
    "import copy\n",
    "import sys, os\n",
    "sys.path.append(\"../\")\n",
    "\n",
    "import hydra\n",
    "import pytorch_lightning as pl\n",
    "import logging\n",
    "\n",
    "pl.utilities.distributed.log.setLevel(logging.ERROR)\n",
    "\n",
    "hydra.initialize(config_path=\"../configs\")\n",
    "cfg = hydra.compose(overrides=[\"+data=marina\"])\n",
    "cfg.data.data_dir = os.path.join(\"../\", cfg.data.data_dir)\n",
    "\n",
    "import numpy as np"
   ]
  },
  {
   "cell_type": "code",
   "execution_count": null,
   "metadata": {
    "scrolled": false
   },
   "outputs": [],
   "source": [
    "datamodule = hydra.utils.instantiate(cfg.data)\n",
    "datamodule.setup()\n",
    "\n",
    "datamodule.describe()"
   ]
  },
  {
   "cell_type": "code",
   "execution_count": null,
   "metadata": {},
   "outputs": [],
   "source": [
    "print(len(datamodule.train_dataset.slices[\"pos\"]) if datamodule.train_dataset.slices is not None else \"NO SLICES\")\n",
    "idx = 0\n",
    "\n",
    "data_to_print = copy.deepcopy(datamodule.train_dataset.data)\n",
    "    \n",
    "if datamodule.train_dataset.slices is not None:\n",
    "    for k in datamodule.train_dataset.slices.keys():\n",
    "        data_to_print[k] = data_to_print[k][datamodule.train_dataset.slices[k][idx]:datamodule.train_dataset.slices[k][idx + 1]]\n",
    "        \n",
    "datamodule.show(data_to_print, voxelize=2.*data_to_print.size(0) / 1000000)"
   ]
  },
  {
   "cell_type": "code",
   "execution_count": null,
   "metadata": {
    "scrolled": false
   },
   "outputs": [],
   "source": [
    "for _ in range(4):\n",
    "    data = datamodule.train_dataset[np.random.randint(len(datamodule.train_dataset))]\n",
    "    datamodule.show(data)"
   ]
  },
  {
   "cell_type": "code",
   "execution_count": null,
   "metadata": {},
   "outputs": [],
   "source": []
  }
 ],
 "metadata": {
  "interpreter": {
   "hash": "f66f361b60a0f669a83bf49483502faf91b64305c31842951638f8f87d6b5230"
  },
  "kernelspec": {
   "display_name": "Python 3 (ipykernel)",
   "language": "python",
   "name": "python3"
  },
  "language_info": {
   "codemirror_mode": {
    "name": "ipython",
    "version": 3
   },
   "file_extension": ".py",
   "mimetype": "text/x-python",
   "name": "python",
   "nbconvert_exporter": "python",
   "pygments_lexer": "ipython3",
   "version": "3.9.13"
  }
 },
 "nbformat": 4,
 "nbformat_minor": 2
}
